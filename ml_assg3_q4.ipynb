{
  "nbformat": 4,
  "nbformat_minor": 0,
  "metadata": {
    "colab": {
      "provenance": [],
      "authorship_tag": "ABX9TyNSHxE9bwW0lBWHsjV858FS",
      "include_colab_link": true
    },
    "kernelspec": {
      "name": "python3",
      "display_name": "Python 3"
    },
    "language_info": {
      "name": "python"
    }
  },
  "cells": [
    {
      "cell_type": "markdown",
      "metadata": {
        "id": "view-in-github",
        "colab_type": "text"
      },
      "source": [
        "<a href=\"https://colab.research.google.com/github/Gopi-chand-26/ml_assignment3/blob/main/ml_assg3_q4.ipynb\" target=\"_parent\"><img src=\"https://colab.research.google.com/assets/colab-badge.svg\" alt=\"Open In Colab\"/></a>"
      ]
    },
    {
      "cell_type": "code",
      "execution_count": null,
      "metadata": {
        "id": "moppYrqQpQtN"
      },
      "outputs": [],
      "source": [
        "import numpy as np\n",
        "\n",
        "M = 4\n",
        "N = 5\n",
        "\n",
        "matrix = np.array([\n",
        "    [1.2, 3.5, 5.7, 2.1, 4.4],\n",
        "    [6.8, 2.4, 3.6, 8.7, 5.9],\n",
        "    [4.3, 7.1, 8.2, 1.4, 3.7],\n",
        "    [9.8, 2.1, 4.5, 6.2, 7.0]\n",
        "])\n",
        "\n",
        "matrix_T = matrix.T\n",
        "\n",
        "covariance_matrix = np.cov(matrix_T, rowvar=False)\n",
        "\n",
        "correlation_matrix = np.corrcoef(matrix_T, rowvar=False)\n",
        "\n",
        "print(f'Matrix (MxN dimension):\\n{matrix}\\n')\n",
        "print(f'Covariance Matrix (MxM dimension):\\n{covariance_matrix}\\n')\n",
        "print(f'Correlation Matrix (MxM dimension):\\n{correlation_matrix}\\n')\n"
      ]
    }
  ]
}